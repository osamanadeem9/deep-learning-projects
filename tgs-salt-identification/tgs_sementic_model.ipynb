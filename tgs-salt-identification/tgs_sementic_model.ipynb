{
  "nbformat": 4,
  "nbformat_minor": 0,
  "metadata": {
    "colab": {
      "name": "Copy of tgs_sementic_model.ipynb",
      "provenance": [],
      "collapsed_sections": []
    },
    "kernelspec": {
      "name": "python3",
      "display_name": "Python 3"
    },
    "accelerator": "GPU"
  },
  "cells": [
    {
      "cell_type": "markdown",
      "metadata": {
        "id": "LS7v2aHGvCZQ",
        "colab_type": "text"
      },
      "source": [
        "# **TGS SALT IDENTIFICATION CHALLENGE**\n",
        "\n",
        "# **Segment salt deposits beneath the Earth's surface**\n",
        "\n",
        "Several areas of Earth with large accumulations of oil and gas also have huge deposits of salt below the surface.\n",
        "\n",
        "But unfortunately, knowing where large salt deposits are precisely is very difficult. Professional seismic imaging still requires expert human interpretation of salt bodies. This leads to very subjective, highly variable renderings. More alarmingly, it leads to potentially dangerous situations for oil and gas company drillers.\n",
        "\n",
        "The task is to build an algorithm that automatically and accurately identifies if a subsurface target is salt or not."
      ]
    },
    {
      "cell_type": "code",
      "metadata": {
        "id": "AKwBeOtVqH_1",
        "colab_type": "code",
        "colab": {}
      },
      "source": [
        "from matplotlib import image\n",
        "from PIL import Image\n",
        "\n",
        "import matplotlib.pyplot as plt\n",
        "import pandas as pd\n",
        "import os\n",
        "\n",
        "import numpy as np\n",
        "from tqdm import tqdm_notebook, tnrange\n",
        "from keras.preprocessing.image import ImageDataGenerator, array_to_img, img_to_array, load_img\n",
        "from skimage.transform import resize\n",
        "import sys\n",
        "from keras.preprocessing.image import load_img\n",
        "from tensorflow.keras.preprocessing.image import array_to_img\n",
        "\n",
        "import tensorflow as tf\n",
        "from keras.models import Model, load_model\n",
        "from keras.layers import Input\n",
        "from keras.layers.core import Lambda\n",
        "from keras.layers.convolutional import Conv2D, Conv2DTranspose\n",
        "from keras.layers.pooling import MaxPooling2D\n",
        "from keras.layers.merge import concatenate\n",
        "from keras.callbacks import EarlyStopping, ModelCheckpoint\n",
        "from keras import backend as K"
      ],
      "execution_count": 0,
      "outputs": []
    },
    {
      "cell_type": "markdown",
      "metadata": {
        "id": "X-fFnd2cxRJs",
        "colab_type": "text"
      },
      "source": [
        "# **Loading and Resizing training images**"
      ]
    },
    {
      "cell_type": "code",
      "metadata": {
        "id": "o0zPQ9GmX54N",
        "colab_type": "code",
        "outputId": "cd539824-b6aa-4769-f5b5-4b3d43e41640",
        "colab": {
          "base_uri": "https://localhost:8080/",
          "height": 93,
          "referenced_widgets": [
            "0f54dfd015bb4105897f63f6224117a5"
          ]
        }
      },
      "source": [
        "\n",
        "path = \"tgs_data/train\"\n",
        "PATH_TRAIN =\"tgs_data/train/images\"\n",
        "PATH_TEST = \"tgs_data/test/images\"\n",
        "train_ids = os.listdir(PATH_TRAIN)\n",
        "test_ids = os.listdir(PATH_TEST)\n",
        "\n",
        "print (len(train_ids))\n",
        "\n",
        "im_width = 128\n",
        "im_height = 128\n",
        "im_chan = 1\n",
        "\n",
        "X_train = np.zeros((len(train_ids), im_height, im_width, im_chan), dtype=np.uint8)\n",
        "Y_train = np.zeros((len(train_ids), im_height, im_width, 1), dtype=np.bool)\n",
        "print('Getting and resizing train images and masks ')\n",
        "sys.stdout.flush()\n",
        "for n, id_ in tqdm_notebook(enumerate(train_ids), total=len(train_ids)):\n",
        "    path = \"tgs_data/train\"\n",
        "    img = load_img(path + '/images/' + id_)\n",
        "    x = img_to_array(img)[:,:,1]\n",
        "    x = resize(x, (128, 128, 1), mode='constant', preserve_range=True)\n",
        "    X_train[n] = x\n",
        "    mask = img_to_array(load_img(path + '/masks/' + id_))[:,:,1]\n",
        "    Y_train[n] = resize(mask, (128, 128, 1), mode='constant', preserve_range=True)\n",
        "\n",
        "print('Finished resizing!')\n",
        "\n"
      ],
      "execution_count": 0,
      "outputs": [
        {
          "output_type": "stream",
          "text": [
            "4000\n",
            "Getting and resizing train images and masks ... \n"
          ],
          "name": "stdout"
        },
        {
          "output_type": "display_data",
          "data": {
            "application/vnd.jupyter.widget-view+json": {
              "model_id": "0f54dfd015bb4105897f63f6224117a5",
              "version_minor": 0,
              "version_major": 2
            },
            "text/plain": [
              "HBox(children=(IntProgress(value=0, max=4000), HTML(value='')))"
            ]
          },
          "metadata": {
            "tags": []
          }
        },
        {
          "output_type": "stream",
          "text": [
            "\n",
            "Done!\n"
          ],
          "name": "stdout"
        }
      ]
    },
    {
      "cell_type": "markdown",
      "metadata": {
        "id": "nNWBUstsxaty",
        "colab_type": "text"
      },
      "source": [
        "# **Displaying a resized-training image**"
      ]
    },
    {
      "cell_type": "code",
      "metadata": {
        "id": "E4s_Xcf8muha",
        "colab_type": "code",
        "outputId": "f069ec4a-2c64-4f43-e4bb-8a51754f3266",
        "colab": {
          "base_uri": "https://localhost:8080/",
          "height": 145
        }
      },
      "source": [
        "a = array_to_img(X_train[10])\n",
        "a\n"
      ],
      "execution_count": 0,
      "outputs": [
        {
          "output_type": "execute_result",
          "data": {
            "image/png": "[encoded data removed]",
            "text/plain": [
              "<PIL.Image.Image image mode=L size=128x128 at 0x7F23E6509DA0>"
            ]
          },
          "metadata": {
            "tags": []
          },
          "execution_count": 69
        }
      ]
    },
    {
      "cell_type": "markdown",
      "metadata": {
        "id": "T_q5DdAfxZBp",
        "colab_type": "text"
      },
      "source": [
        "# **Mean_IOU**\n",
        "An evaluation metric for semantic image segmentation, which first computes the IOU for each semantic class and then computes the average over classes"
      ]
    },
    {
      "cell_type": "code",
      "metadata": {
        "id": "McKcXbYCYOih",
        "colab_type": "code",
        "colab": {}
      },
      "source": [
        "def mean_iou(y_true, y_pred):\n",
        "    prec = []\n",
        "    for t in np.arange(0.5, 1.0, 0.05):\n",
        "        y_pred_ = tf.to_int32(y_pred > t)\n",
        "        score, up_opt = tf.metrics.mean_iou(y_true, y_pred_, 2)\n",
        "        K.get_session().run(tf.local_variables_initializer())\n",
        "        with tf.control_dependencies([up_opt]):\n",
        "            score = tf.identity(score)\n",
        "        prec.append(score)\n",
        "    return K.mean(K.stack(prec), axis=0)"
      ],
      "execution_count": 0,
      "outputs": []
    },
    {
      "cell_type": "markdown",
      "metadata": {
        "id": "j0N52bZbU4Qo",
        "colab_type": "text"
      },
      "source": [
        "# **U-NET Model**\n",
        "The implementation of U-Net model. It is regarded as one of the best architectures for image segmentation.\n",
        " \n",
        "Link to original paper: https://arxiv.org/pdf/1505.04597.pdf"
      ]
    },
    {
      "cell_type": "code",
      "metadata": {
        "id": "q4LwIoh5YSZ4",
        "colab_type": "code",
        "outputId": "b812be7f-6c64-4303-87da-ed21eadc62e1",
        "colab": {
          "base_uri": "https://localhost:8080/",
          "height": 1000
        }
      },
      "source": [
        "from keras.optimizers import Adam\n",
        "inputs = Input((im_height, im_width, im_chan))\n",
        "s = Lambda(lambda x: x / 255) (inputs)\n",
        "\n",
        "c1 = Conv2D(8, (3, 3), activation='relu', padding='same') (s)\n",
        "c1 = Conv2D(8, (3, 3), activation='relu', padding='same') (c1)\n",
        "p1 = MaxPooling2D((2, 2)) (c1)\n",
        "\n",
        "c2 = Conv2D(16, (3, 3), activation='relu', padding='same') (p1)\n",
        "c2 = Conv2D(16, (3, 3), activation='relu', padding='same') (c2)\n",
        "p2 = MaxPooling2D((2, 2)) (c2)\n",
        "\n",
        "c3 = Conv2D(32, (3, 3), activation='relu', padding='same') (p2)\n",
        "c3 = Conv2D(32, (3, 3), activation='relu', padding='same') (c3)\n",
        "p3 = MaxPooling2D((2, 2)) (c3)\n",
        "\n",
        "c4 = Conv2D(64, (3, 3), activation='relu', padding='same') (p3)\n",
        "c4 = Conv2D(64, (3, 3), activation='relu', padding='same') (c4)\n",
        "p4 = MaxPooling2D(pool_size=(2, 2)) (c4)\n",
        "\n",
        "c5 = Conv2D(128, (3, 3), activation='relu', padding='same') (p4)\n",
        "c5 = Conv2D(128, (3, 3), activation='relu', padding='same') (c5)\n",
        "\n",
        "u6 = Conv2DTranspose(64, (2, 2), strides=(2, 2), padding='same') (c5)\n",
        "u6 = concatenate([u6, c4])\n",
        "c6 = Conv2D(64, (3, 3), activation='relu', padding='same') (u6)\n",
        "c6 = Conv2D(64, (3, 3), activation='relu', padding='same') (u6)\n",
        "\n",
        "u7 = Conv2DTranspose(32, (2, 2), strides=(2, 2), padding='same') (c6)\n",
        "u7 = concatenate([u7, c3])\n",
        "c7 = Conv2D(32, (3, 3), activation='relu', padding='same') (u7)\n",
        "c7 = Conv2D(32, (3, 3), activation='relu', padding='same') (c7)\n",
        "\n",
        "u8 = Conv2DTranspose(16, (2, 2), strides=(2, 2), padding='same') (c7)\n",
        "u8 = concatenate([u8, c2])\n",
        "c8 = Conv2D(16, (3, 3), activation='relu', padding='same') (u8)\n",
        "c8 = Conv2D(16, (3, 3), activation='relu', padding='same') (c8)\n",
        "\n",
        "u9 = Conv2DTranspose(8, (2, 2), strides=(2, 2), padding='same') (c8)\n",
        "u9 = concatenate([u9, c1], axis=3)\n",
        "c9 = Conv2D(8, (3, 3), activation='relu', padding='same') (u9)\n",
        "c9 = Conv2D(8, (3, 3), activation='relu', padding='same') (c9)\n",
        "\n",
        "outputs = Conv2D(1, (1, 1), activation='sigmoid') (c9)\n",
        "\n",
        "model = Model(inputs=[inputs], outputs=[outputs])\n",
        "model.compile(optimizer='adam', loss='binary_crossentropy', metrics=[mean_iou])\n",
        "\n",
        "model.summary()"
      ],
      "execution_count": 0,
      "outputs": [
        {
          "output_type": "stream",
          "text": [
            "Model: \"model_5\"\n",
            "__________________________________________________________________________________________________\n",
            "Layer (type)                    Output Shape         Param #     Connected to                     \n",
            "==================================================================================================\n",
            "input_8 (InputLayer)            (None, 128, 128, 1)  0                                            \n",
            "__________________________________________________________________________________________________\n",
            "lambda_8 (Lambda)               (None, 128, 128, 1)  0           input_8[0][0]                    \n",
            "__________________________________________________________________________________________________\n",
            "conv2d_110 (Conv2D)             (None, 128, 128, 8)  80          lambda_8[0][0]                   \n",
            "__________________________________________________________________________________________________\n",
            "conv2d_111 (Conv2D)             (None, 128, 128, 8)  584         conv2d_110[0][0]                 \n",
            "__________________________________________________________________________________________________\n",
            "max_pooling2d_29 (MaxPooling2D) (None, 64, 64, 8)    0           conv2d_111[0][0]                 \n",
            "__________________________________________________________________________________________________\n",
            "conv2d_112 (Conv2D)             (None, 64, 64, 16)   1168        max_pooling2d_29[0][0]           \n",
            "__________________________________________________________________________________________________\n",
            "conv2d_113 (Conv2D)             (None, 64, 64, 16)   2320        conv2d_112[0][0]                 \n",
            "__________________________________________________________________________________________________\n",
            "max_pooling2d_30 (MaxPooling2D) (None, 32, 32, 16)   0           conv2d_113[0][0]                 \n",
            "__________________________________________________________________________________________________\n",
            "conv2d_114 (Conv2D)             (None, 32, 32, 32)   4640        max_pooling2d_30[0][0]           \n",
            "__________________________________________________________________________________________________\n",
            "conv2d_115 (Conv2D)             (None, 32, 32, 32)   9248        conv2d_114[0][0]                 \n",
            "__________________________________________________________________________________________________\n",
            "max_pooling2d_31 (MaxPooling2D) (None, 16, 16, 32)   0           conv2d_115[0][0]                 \n",
            "__________________________________________________________________________________________________\n",
            "conv2d_116 (Conv2D)             (None, 16, 16, 64)   18496       max_pooling2d_31[0][0]           \n",
            "__________________________________________________________________________________________________\n",
            "conv2d_117 (Conv2D)             (None, 16, 16, 64)   36928       conv2d_116[0][0]                 \n",
            "__________________________________________________________________________________________________\n",
            "max_pooling2d_32 (MaxPooling2D) (None, 8, 8, 64)     0           conv2d_117[0][0]                 \n",
            "__________________________________________________________________________________________________\n",
            "conv2d_118 (Conv2D)             (None, 8, 8, 128)    73856       max_pooling2d_32[0][0]           \n",
            "__________________________________________________________________________________________________\n",
            "conv2d_119 (Conv2D)             (None, 8, 8, 128)    147584      conv2d_118[0][0]                 \n",
            "__________________________________________________________________________________________________\n",
            "conv2d_transpose_20 (Conv2DTran (None, 16, 16, 64)   32832       conv2d_119[0][0]                 \n",
            "__________________________________________________________________________________________________\n",
            "concatenate_20 (Concatenate)    (None, 16, 16, 128)  0           conv2d_transpose_20[0][0]        \n",
            "                                                                 conv2d_117[0][0]                 \n",
            "__________________________________________________________________________________________________\n",
            "conv2d_121 (Conv2D)             (None, 16, 16, 64)   73792       concatenate_20[0][0]             \n",
            "__________________________________________________________________________________________________\n",
            "conv2d_transpose_21 (Conv2DTran (None, 32, 32, 32)   8224        conv2d_121[0][0]                 \n",
            "__________________________________________________________________________________________________\n",
            "concatenate_21 (Concatenate)    (None, 32, 32, 64)   0           conv2d_transpose_21[0][0]        \n",
            "                                                                 conv2d_115[0][0]                 \n",
            "__________________________________________________________________________________________________\n",
            "conv2d_122 (Conv2D)             (None, 32, 32, 32)   18464       concatenate_21[0][0]             \n",
            "__________________________________________________________________________________________________\n",
            "conv2d_123 (Conv2D)             (None, 32, 32, 32)   9248        conv2d_122[0][0]                 \n",
            "__________________________________________________________________________________________________\n",
            "conv2d_transpose_22 (Conv2DTran (None, 64, 64, 16)   2064        conv2d_123[0][0]                 \n",
            "__________________________________________________________________________________________________\n",
            "concatenate_22 (Concatenate)    (None, 64, 64, 32)   0           conv2d_transpose_22[0][0]        \n",
            "                                                                 conv2d_113[0][0]                 \n",
            "__________________________________________________________________________________________________\n",
            "conv2d_124 (Conv2D)             (None, 64, 64, 16)   4624        concatenate_22[0][0]             \n",
            "__________________________________________________________________________________________________\n",
            "conv2d_125 (Conv2D)             (None, 64, 64, 16)   2320        conv2d_124[0][0]                 \n",
            "__________________________________________________________________________________________________\n",
            "conv2d_transpose_23 (Conv2DTran (None, 128, 128, 8)  520         conv2d_125[0][0]                 \n",
            "__________________________________________________________________________________________________\n",
            "concatenate_23 (Concatenate)    (None, 128, 128, 16) 0           conv2d_transpose_23[0][0]        \n",
            "                                                                 conv2d_111[0][0]                 \n",
            "__________________________________________________________________________________________________\n",
            "conv2d_126 (Conv2D)             (None, 128, 128, 8)  1160        concatenate_23[0][0]             \n",
            "__________________________________________________________________________________________________\n",
            "conv2d_127 (Conv2D)             (None, 128, 128, 8)  584         conv2d_126[0][0]                 \n",
            "__________________________________________________________________________________________________\n",
            "conv2d_128 (Conv2D)             (None, 128, 128, 1)  9           conv2d_127[0][0]                 \n",
            "==================================================================================================\n",
            "Total params: 448,745\n",
            "Trainable params: 448,745\n",
            "Non-trainable params: 0\n",
            "__________________________________________________________________________________________________\n"
          ],
          "name": "stdout"
        }
      ]
    },
    {
      "cell_type": "markdown",
      "metadata": {
        "id": "CVDyF9jAWnvX",
        "colab_type": "text"
      },
      "source": [
        "# **Training over the data and plotting loss and accuracy graphs**"
      ]
    },
    {
      "cell_type": "code",
      "metadata": {
        "id": "Kk8sYMz5YWkx",
        "colab_type": "code",
        "colab": {}
      },
      "source": [
        "earlystopper = EarlyStopping(patience=5, verbose=1)\n",
        "checkpointer = ModelCheckpoint('model-tgs-salt-1.h5', verbose=1, save_best_only=True)\n",
        "history = model.fit(X_train, Y_train, validation_split=0.25, epochs=50, \n",
        "                    callbacks=[earlystopper, checkpointer])\n",
        "import matplotlib.pyplot as plt\n",
        "%matplotlib inline\n",
        "plt.plot(history.history['loss'])\n",
        "plt.plot(history.history['val_loss'])\n",
        "plt.title('model loss')\n",
        "plt.ylabel('loss')\n",
        "plt.xlabel('epoch')\n",
        "plt.legend(['train', 'test'], loc='upper left')\n",
        "plt.show()\n",
        "\n",
        "plt.plot(history.history['mean_iou'])\n",
        "plt.plot(history.history['val_mean_iou'])\n",
        "plt.title('model accuracy')\n",
        "plt.ylabel('mean IOU')\n",
        "plt.xlabel('epoch')\n",
        "plt.legend(['train', 'test'], loc='upper left')\n",
        "plt.show()\n",
        "\n",
        "model.save('tgs_data.h5')"
      ],
      "execution_count": 0,
      "outputs": []
    }
  ]
}