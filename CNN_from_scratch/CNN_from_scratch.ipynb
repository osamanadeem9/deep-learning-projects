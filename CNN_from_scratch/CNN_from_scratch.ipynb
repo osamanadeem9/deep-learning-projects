{
  "nbformat": 4,
  "nbformat_minor": 0,
  "metadata": {
    "colab": {
      "name": "CNN_from_scratch.ipynb",
      "provenance": [],
      "collapsed_sections": []
    },
    "kernelspec": {
      "name": "python3",
      "display_name": "Python 3"
    },
    "accelerator": "GPU"
  },
  "cells": [
    {
      "cell_type": "markdown",
      "metadata": {
        "id": "LJ_c8QLDYJ-t",
        "colab_type": "text"
      },
      "source": [
        "# **CNN From Scratch**\n",
        "In the following notebook, i have created Convolution Neural Networks simply using numpy. CNNs are considered as one of the best architectures for image classification. Let's dive deep into their implementation from scratch."
      ]
    },
    {
      "cell_type": "markdown",
      "metadata": {
        "id": "XwvN58uvY6UR",
        "colab_type": "text"
      },
      "source": [
        "# 1) Conv Layer:\n",
        "The following class implements conv layer of 3x3 filters"
      ]
    },
    {
      "cell_type": "code",
      "metadata": {
        "id": "gA8QiLjHV-wb",
        "colab_type": "code",
        "colab": {}
      },
      "source": [
        "import numpy as np\n",
        "\n",
        "class Conv3x3:\n",
        "  def __init__(self, num_filters):\n",
        "    self.num_filters = num_filters\n",
        "    self.filters = np.random.randn(num_filters, 3, 3) / 9\n",
        "\n",
        "  def iterate_regions(self, image):\n",
        "    h,w = image.shape\n",
        "\n",
        "    for i in range (h-2):\n",
        "      for j in range (w-2):\n",
        "        im_region = image[i:(i+3), j:(j+3)]\n",
        "        yield im_region,i,j\n",
        "    \n",
        "  def forward (self, input):\n",
        "    \n",
        "    self.last_input = input\n",
        "    h, w = input.shape\n",
        "    output = np.zeros((h-2,w-2,self.num_filters))\n",
        "\n",
        "    for im_region, i, j in self.iterate_regions(input):\n",
        "      output[i, j] = np.sum(im_region * self.filters, axis=(1, 2))\n",
        "    \n",
        "    return output\n",
        "  \n",
        "  def backprop(self, d_L_d_out, learn_rate):\n",
        "\n",
        "    d_L_d_filters = np.zeros(self.filters.shape)\n",
        "\n",
        "    for im_region, i, j in self.iterate_regions(self.last_input):\n",
        "      for f in range(self.num_filters):\n",
        "        d_L_d_filters[f] += d_L_d_out[i,j,f]*im_region\n",
        "    \n",
        "    self.filters -=learn_rate * d_L_d_filters\n",
        "\n",
        "    return None"
      ],
      "execution_count": 0,
      "outputs": []
    },
    {
      "cell_type": "markdown",
      "metadata": {
        "id": "DNOkETUEZhSl",
        "colab_type": "text"
      },
      "source": [
        "# 2) Max Pooling Layer:\n",
        "This creates a maxpool layer with a pooling size of 2"
      ]
    },
    {
      "cell_type": "code",
      "metadata": {
        "id": "HPpc1nzhGAba",
        "colab_type": "code",
        "colab": {}
      },
      "source": [
        "class MaxPool2:\n",
        "\n",
        "  def iterate_regions(self, image):\n",
        "\n",
        "    h, w, _ = image.shape \n",
        "    new_h = h // 2\n",
        "    new_w = w // 2\n",
        "\n",
        "    for i in range(new_h):\n",
        "      for j in range(new_w):\n",
        "        im_region = image[(i*2):(i*2+2), (j*2): (j*2+2)]\n",
        "        yield im_region, i ,j\n",
        "\n",
        "  def forward(self,input):\n",
        "\n",
        "    self.last_input = input\n",
        "    h, w, num_filters = input.shape\n",
        "    output = np.zeros((h//2, w//2, num_filters))\n",
        "\n",
        "    for im_region, i, j in self.iterate_regions(input):\n",
        "      output[i, j] = np.amax(im_region, axis = (0,1))\n",
        "      \n",
        "    return output\n",
        "  \n",
        "  def backprop(self, d_L_d_out):\n",
        "\n",
        "    d_L_d_input = np.zeros(self.last_input.shape)\n",
        "\n",
        "    for im_region, i, j in self.iterate_regions(self.last_input):\n",
        "      h, w, f = im_region.shape\n",
        "      amax = np.amax(im_region, axis=(0,1))\n",
        "\n",
        "      for i2 in range(h):\n",
        "        for j2 in range(w):\n",
        "          for f2 in range(f):\n",
        "\n",
        "            if im_region[i2, j2, f2] == amax[f2]:\n",
        "              d_L_d_input[i * 2 + i2, j*2 + j2, f2] = d_L_d_out[i,j,f2]\n",
        "    return d_L_d_input"
      ],
      "execution_count": 0,
      "outputs": []
    },
    {
      "cell_type": "markdown",
      "metadata": {
        "id": "J5eOOGpwZvL-",
        "colab_type": "text"
      },
      "source": [
        "# 3) Softmax Layer:\n",
        "This creates a softmax activation layer, that helps our CNN in actually making predictions"
      ]
    },
    {
      "cell_type": "code",
      "metadata": {
        "id": "jueqeMdMiltC",
        "colab_type": "code",
        "colab": {}
      },
      "source": [
        "class Softmax:\n",
        "\n",
        "  def __init__(self, input_len, nodes):\n",
        "\n",
        "    self.weights = np.random.randn(input_len, nodes) / input_len\n",
        "    self.biases = np.zeros(nodes)\n",
        "\n",
        "  def forward(self, input):\n",
        "\n",
        "    self.last_input_shape = input.shape\n",
        "\n",
        "    input = input.flatten()\n",
        "    self.last_input = input\n",
        "\n",
        "    input_len, nodes = self.weights.shape\n",
        "\n",
        "    totals = np.dot(input, self.weights) + self.biases\n",
        "    self.last_totals = totals\n",
        "\n",
        "    exp = np.exp(totals)\n",
        "    return exp / np.sum(exp, axis = 0)\n",
        "  \n",
        "  def backprop(self, d_L_d_out, learn_rate):\n",
        "\n",
        "    for i, gradient in enumerate(d_L_d_out):\n",
        "      if gradient == 0:\n",
        "        continue\n",
        "      \n",
        "      t_exp = np.exp(self.last_totals)\n",
        "\n",
        "      S = np.sum(t_exp)\n",
        "\n",
        "      d_out_d_t = -t_exp[i] * t_exp / (S ** 2)\n",
        "      d_out_d_t[i] = t_exp[i] * (S - t_exp[i]) / (S ** 2)\n",
        "\n",
        "      d_t_d_w = self.last_input\n",
        "      d_t_d_b = 1\n",
        "      d_t_d_inputs = self.weights\n",
        "\n",
        "      d_L_d_t = gradient * d_out_d_t\n",
        "\n",
        "      d_L_d_w = d_t_d_w[np.newaxis].T @ d_L_d_t[np.newaxis]\n",
        "      d_L_d_b = d_L_d_t * d_t_d_b\n",
        "      d_L_d_inputs = d_t_d_inputs @ d_L_d_t\n",
        "\n",
        "      self.weights -= learn_rate * d_L_d_w\n",
        "      self.biases -= learn_rate * d_L_d_b\n",
        "\n",
        "      return d_L_d_inputs.reshape(self.last_input_shape)"
      ],
      "execution_count": 0,
      "outputs": []
    },
    {
      "cell_type": "markdown",
      "metadata": {
        "id": "bDJO-JSZZuL7",
        "colab_type": "text"
      },
      "source": [
        "# 4) Training over MNIST:\n",
        "The following code initializes the layers, takes 1000 training images from MNIST dataset and trains the model"
      ]
    },
    {
      "cell_type": "code",
      "metadata": {
        "id": "DQAlFxSTtT-K",
        "colab_type": "code",
        "outputId": "307c2960-e8ca-4c45-9036-2fd1a3a9634e",
        "colab": {
          "base_uri": "https://localhost:8080/",
          "height": 199
        }
      },
      "source": [
        "\n",
        "from keras.datasets import mnist\n",
        "\n",
        "(x_train, y_train), (x_test, y_test) = mnist.load_data()\n",
        "\n",
        "\n",
        "conv = Conv3x3(8)\n",
        "maxpool = MaxPool2()\n",
        "softmax = Softmax(13*13*8,10)\n",
        "\n",
        "def forward(image, label):\n",
        "\n",
        "  out = conv.forward((image/255)-0.5)\n",
        "  # print(out.shape)\n",
        "  out = maxpool.forward(out)\n",
        "  # print(out.shape)\n",
        "  out = softmax.forward(out)\n",
        "  # print(out.shape)\n",
        "\n",
        "  loss = -np.log(out[label])\n",
        "  acc = 1 if np.argmax(out) == label else 0 \n",
        "\n",
        "  return out,loss, acc\n",
        "\n",
        "def train(im, label, lr=.01):\n",
        "\n",
        "  out,loss,acc = forward(im, label)\n",
        "\n",
        "  gradient = np.zeros(10)\n",
        "  gradient[label] = -1/out[label]\n",
        "\n",
        "  gradient = softmax.backprop(gradient, lr)\n",
        "  gradient = maxpool.backprop(gradient)\n",
        "  gradient = conv.backprop(gradient, lr)\n",
        "\n",
        "  return loss, acc\n",
        "\n",
        "print(\"Training over frst 1000 images of MNIST\")\n",
        "train_images = x_train[:1000]\n",
        "train_labels = y_train[:1000]\n",
        "num_epochs = 5\n",
        "for epoch in range(num_epochs):\n",
        "  print (\"Epoch # %d: \" % (epoch+1), end=\" \")\n",
        "  loss = 0\n",
        "  num_correct = 0\n",
        "\n",
        "\n",
        "  for i, (im, label) in enumerate(zip(train_images, train_labels)):\n",
        "      if i%1000 == 99:\n",
        "        print (\n",
        "        'Average Loss: %.3f || Accuracy: %d%%' %\n",
        "        (loss / 1000, num_correct)) \n",
        "        loss = 0\n",
        "        num_correct = 0\n",
        "      l, acc = train(im, label)\n",
        "      loss += l\n",
        "      num_correct += acc"
      ],
      "execution_count": 4,
      "outputs": [
        {
          "output_type": "stream",
          "text": [
            "Using TensorFlow backend.\n"
          ],
          "name": "stderr"
        },
        {
          "output_type": "display_data",
          "data": {
            "text/html": [
              "<p style=\"color: red;\">\n",
              "The default version of TensorFlow in Colab will soon switch to TensorFlow 2.x.<br>\n",
              "We recommend you <a href=\"https://www.tensorflow.org/guide/migrate\" target=\"_blank\">upgrade</a> now \n",
              "or ensure your notebook will continue to use TensorFlow 1.x via the <code>%tensorflow_version 1.x</code> magic:\n",
              "<a href=\"https://colab.research.google.com/notebooks/tensorflow_version.ipynb\" target=\"_blank\">more info</a>.</p>\n"
            ],
            "text/plain": [
              "<IPython.core.display.HTML object>"
            ]
          },
          "metadata": {
            "tags": []
          }
        },
        {
          "output_type": "stream",
          "text": [
            "Training over frst 1000 images of MNIST\n",
            "Epoch # 1:  Average Loss: 0.217 || Accuracy: 30%\n",
            "Epoch # 2:  Average Loss: 0.051 || Accuracy: 85%\n",
            "Epoch # 3:  Average Loss: 0.035 || Accuracy: 87%\n",
            "Epoch # 4:  Average Loss: 0.024 || Accuracy: 91%\n",
            "Epoch # 5:  Average Loss: 0.016 || Accuracy: 94%\n"
          ],
          "name": "stdout"
        }
      ]
    },
    {
      "cell_type": "markdown",
      "metadata": {
        "id": "V0fbhuAxcZ7l",
        "colab_type": "text"
      },
      "source": [
        "# 5) Test on MNIST images:\n",
        "The train model is tested over 100 test images from MNIST dataset\n"
      ]
    },
    {
      "cell_type": "code",
      "metadata": {
        "id": "3-pn-k6-OhyZ",
        "colab_type": "code",
        "outputId": "65d51932-f98a-4256-c677-50f0d1c2b623",
        "colab": {
          "base_uri": "https://localhost:8080/",
          "height": 51
        }
      },
      "source": [
        "\n",
        "print (\"Testing the first 100 images of MNIST\")\n",
        "test_images = x_test[:100]\n",
        "test_labels = y_test[:100]\n",
        "loss = 0\n",
        "num_correct = 0\n",
        "\n",
        "for im, label in zip(test_images, test_labels):\n",
        "  _, l, acc = forward(im, label)\n",
        "  loss += l\n",
        "  num_correct += acc\n",
        "  \n",
        "\n",
        "num_tests = len(test_images)\n",
        "print (\"Test loss: %.3f || Test Accuracy: %.2f\" % (loss/num_correct, num_correct/num_tests))"
      ],
      "execution_count": 5,
      "outputs": [
        {
          "output_type": "stream",
          "text": [
            "Testing the first 100 images of MNIST\n",
            "Test loss: 0.393 || Test Accuracy: 0.89\n"
          ],
          "name": "stdout"
        }
      ]
    },
    {
      "cell_type": "markdown",
      "metadata": {
        "id": "LFdiSCpDe1g8",
        "colab_type": "text"
      },
      "source": [
        "# 6) Creating a similar keras model:\n",
        "Trained a similar CNN model using keras library, over 5 epochs as above. And the results obtained are comparable to the CNN model above"
      ]
    },
    {
      "cell_type": "code",
      "metadata": {
        "id": "CCzH9uxeC1Gg",
        "colab_type": "code",
        "outputId": "37da4fd0-eddf-4c63-8df5-854f14fc4b68",
        "colab": {
          "base_uri": "https://localhost:8080/",
          "height": 768
        }
      },
      "source": [
        "from keras.models import Sequential\n",
        "from keras.layers import Conv2D, MaxPooling2D, Dense, Flatten\n",
        "from keras.utils import to_categorical\n",
        "from keras.optimizers import SGD\n",
        "\n",
        "(x_train, y_train), (x_test, y_test) = mnist.load_data()\n",
        "\n",
        "train_images = np.expand_dims(x_train[:1000], axis = 3)\n",
        "train_images = (train_images / 255) - 0.5\n",
        "test_images = np.expand_dims(x_test[:100], axis = 3)\n",
        "test_images = (test_images / 255) - 0.5\n",
        "\n",
        "model = Sequential()\n",
        "model.add(Conv2D(8, 3, input_shape=(28,28,1), use_bias=False))\n",
        "model.add(MaxPooling2D(pool_size=2))\n",
        "model.add(Flatten())\n",
        "model.add(Dense(10, activation=\"softmax\"))\n",
        "\n",
        "model.compile(SGD(lr=0.01), loss= \"sparse_categorical_crossentropy\", metrics=[\"accuracy\"])\n",
        "\n",
        "model.fit(train_images, train_labels, batch_size=1, epochs=5)\n",
        "score = model.evaluate(test_images, test_labels)\n",
        "print (\"Test loss: %.3f || Test Accuracy: %.2f\" % (score[0], score[1]))"
      ],
      "execution_count": 6,
      "outputs": [
        {
          "output_type": "stream",
          "text": [
            "WARNING:tensorflow:From /usr/local/lib/python3.6/dist-packages/keras/backend/tensorflow_backend.py:66: The name tf.get_default_graph is deprecated. Please use tf.compat.v1.get_default_graph instead.\n",
            "\n",
            "WARNING:tensorflow:From /usr/local/lib/python3.6/dist-packages/keras/backend/tensorflow_backend.py:541: The name tf.placeholder is deprecated. Please use tf.compat.v1.placeholder instead.\n",
            "\n",
            "WARNING:tensorflow:From /usr/local/lib/python3.6/dist-packages/keras/backend/tensorflow_backend.py:4432: The name tf.random_uniform is deprecated. Please use tf.random.uniform instead.\n",
            "\n",
            "WARNING:tensorflow:From /usr/local/lib/python3.6/dist-packages/keras/backend/tensorflow_backend.py:4267: The name tf.nn.max_pool is deprecated. Please use tf.nn.max_pool2d instead.\n",
            "\n",
            "WARNING:tensorflow:From /usr/local/lib/python3.6/dist-packages/keras/optimizers.py:793: The name tf.train.Optimizer is deprecated. Please use tf.compat.v1.train.Optimizer instead.\n",
            "\n",
            "WARNING:tensorflow:From /usr/local/lib/python3.6/dist-packages/keras/backend/tensorflow_backend.py:3622: The name tf.log is deprecated. Please use tf.math.log instead.\n",
            "\n",
            "WARNING:tensorflow:From /usr/local/lib/python3.6/dist-packages/tensorflow_core/python/ops/math_grad.py:1424: where (from tensorflow.python.ops.array_ops) is deprecated and will be removed in a future version.\n",
            "Instructions for updating:\n",
            "Use tf.where in 2.0, which has the same broadcast rule as np.where\n",
            "WARNING:tensorflow:From /usr/local/lib/python3.6/dist-packages/keras/backend/tensorflow_backend.py:1033: The name tf.assign_add is deprecated. Please use tf.compat.v1.assign_add instead.\n",
            "\n",
            "WARNING:tensorflow:From /usr/local/lib/python3.6/dist-packages/keras/backend/tensorflow_backend.py:1020: The name tf.assign is deprecated. Please use tf.compat.v1.assign instead.\n",
            "\n",
            "WARNING:tensorflow:From /usr/local/lib/python3.6/dist-packages/keras/backend/tensorflow_backend.py:3005: The name tf.Session is deprecated. Please use tf.compat.v1.Session instead.\n",
            "\n",
            "Epoch 1/5\n",
            "WARNING:tensorflow:From /usr/local/lib/python3.6/dist-packages/keras/backend/tensorflow_backend.py:190: The name tf.get_default_session is deprecated. Please use tf.compat.v1.get_default_session instead.\n",
            "\n",
            "WARNING:tensorflow:From /usr/local/lib/python3.6/dist-packages/keras/backend/tensorflow_backend.py:197: The name tf.ConfigProto is deprecated. Please use tf.compat.v1.ConfigProto instead.\n",
            "\n",
            "WARNING:tensorflow:From /usr/local/lib/python3.6/dist-packages/keras/backend/tensorflow_backend.py:207: The name tf.global_variables is deprecated. Please use tf.compat.v1.global_variables instead.\n",
            "\n",
            "WARNING:tensorflow:From /usr/local/lib/python3.6/dist-packages/keras/backend/tensorflow_backend.py:216: The name tf.is_variable_initialized is deprecated. Please use tf.compat.v1.is_variable_initialized instead.\n",
            "\n",
            "WARNING:tensorflow:From /usr/local/lib/python3.6/dist-packages/keras/backend/tensorflow_backend.py:223: The name tf.variables_initializer is deprecated. Please use tf.compat.v1.variables_initializer instead.\n",
            "\n",
            "1000/1000 [==============================] - 5s 5ms/step - loss: 1.0171 - acc: 0.6700\n",
            "Epoch 2/5\n",
            "1000/1000 [==============================] - 2s 2ms/step - loss: 0.4297 - acc: 0.8740\n",
            "Epoch 3/5\n",
            "1000/1000 [==============================] - 2s 2ms/step - loss: 0.3139 - acc: 0.9090\n",
            "Epoch 4/5\n",
            "1000/1000 [==============================] - 2s 2ms/step - loss: 0.2202 - acc: 0.9400\n",
            "Epoch 5/5\n",
            "1000/1000 [==============================] - 2s 2ms/step - loss: 0.1594 - acc: 0.9540\n",
            "100/100 [==============================] - 0s 671us/step\n",
            "Test loss: 0.289 || Test Accuracy: 0.89\n"
          ],
          "name": "stdout"
        }
      ]
    }
  ]
}